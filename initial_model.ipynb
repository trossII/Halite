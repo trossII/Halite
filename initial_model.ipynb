{
 "cells": [
  {
   "cell_type": "code",
   "execution_count": null,
   "metadata": {},
   "outputs": [],
   "source": [
    "%%writefile submission.py\n",
    "\n",
    "# Imports helper functions\n",
    "from kaggle_environments.envs.halite.helpers import *\n",
    "\n",
    "# Returns best direction to move from one position (fromPos) to another (toPos)\n",
    "# Example: If I'm at pos 0 and want to get to pos 55, which direction should I choose?\n",
    "def getDirTo(fromPos, toPos, size):\n",
    "    fromX, fromY = divmod(fromPos[0],size), divmod(fromPos[1],size)\n",
    "    toX, toY = divmod(toPos[0],size), divmod(toPos[1],size)\n",
    "    if fromY < toY: return ShipAction.NORTH\n",
    "    if fromY > toY: return ShipAction.SOUTH\n",
    "    if fromX < toX: return ShipAction.EAST\n",
    "    if fromX > toX: return ShipAction.WEST\n",
    "\n",
    "# Directions a ship can move\n",
    "directions = [ShipAction.NORTH, ShipAction.EAST, ShipAction.SOUTH, ShipAction.WEST]\n",
    "\n",
    "# Will keep track of whether a ship is collecting halite or carrying cargo to a shipyard\n",
    "ship_states = {}\n",
    "\n",
    "# Returns the commands we send to our ships and shipyards\n",
    "def agent(obs, config):\n",
    "    size = config.size\n",
    "    board = Board(obs, config)\n",
    "    me = board.current_player\n",
    "\n",
    "    # If there are no ships, use first shipyard to spawn a ship.\n",
    "    if len(me.ships) == 0 and len(me.shipyards) > 0:\n",
    "        me.shipyards[0].next_action = ShipyardAction.SPAWN\n",
    "\n",
    "    # If there are no shipyards, convert first ship into shipyard.\n",
    "    if len(me.shipyards) == 0 and len(me.ships) > 0:\n",
    "        me.ships[0].next_action = ShipAction.CONVERT\n",
    "    \n",
    "    for ship in me.ships:\n",
    "        if ship.next_action == None:\n",
    "            \n",
    "            ### Part 1: Set the ship's state \n",
    "            if ship.halite < 200: # If cargo is too low, collect halite\n",
    "                ship_states[ship.id] = \"COLLECT\"\n",
    "            if ship.halite > 500: # If cargo gets very big, deposit halite\n",
    "                ship_states[ship.id] = \"DEPOSIT\"\n",
    "                \n",
    "            ### Part 2: Use the ship's state to select an action\n",
    "            if ship_states[ship.id] == \"COLLECT\":\n",
    "                # If halite at current location running low, \n",
    "                # move to the adjacent square containing the most halite\n",
    "                if ship.cell.halite < 100:\n",
    "                    neighbors = [ship.cell.north.halite, ship.cell.east.halite, \n",
    "                                 ship.cell.south.halite, ship.cell.west.halite]\n",
    "                    best = max(range(len(neighbors)), key=neighbors.__getitem__)\n",
    "                    ship.next_action = directions[best]\n",
    "            if ship_states[ship.id] == \"DEPOSIT\":\n",
    "                # Move towards shipyard to deposit cargo\n",
    "                direction = getDirTo(ship.position, me.shipyards[0].position, size)\n",
    "                if direction: ship.next_action = direction\n",
    "                \n",
    "    return me.next_actions"
   ]
  },
  {
   "cell_type": "code",
   "execution_count": null,
   "metadata": {},
   "outputs": [],
   "source": [
    "from kaggle_environments import make\n",
    "env = make(\"halite\", debug=True)\n",
    "env.run([\"submission.py\", \"random\", \"random\", \"random\"])\n",
    "env.render(mode=\"ipython\", width=800, height=600)"
   ]
  },
  {
   "cell_type": "code",
   "execution_count": null,
   "metadata": {},
   "outputs": [],
   "source": []
  },
  {
   "cell_type": "code",
   "execution_count": null,
   "metadata": {},
   "outputs": [],
   "source": []
  }
 ],
 "metadata": {
  "kernelspec": {
   "display_name": "Python 3",
   "language": "python",
   "name": "python3"
  },
  "language_info": {
   "codemirror_mode": {
    "name": "ipython",
    "version": 3
   },
   "file_extension": ".py",
   "mimetype": "text/x-python",
   "name": "python",
   "nbconvert_exporter": "python",
   "pygments_lexer": "ipython3",
   "version": "3.7.4"
  }
 },
 "nbformat": 4,
 "nbformat_minor": 4
}
